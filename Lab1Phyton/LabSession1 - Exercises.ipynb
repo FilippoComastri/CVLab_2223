{
 "cells": [
  {
   "cell_type": "markdown",
   "metadata": {},
   "source": [
    "# Python from Scratch - Exercises\n",
    "## Computer Vision and Image Processing - Lab Session 1\n",
    "### Prof: Luigi Di Stefano, luigi.distefano@unibo.it\n",
    "### Tutor: Pierluigi Zama Ramirez, pierluigi.zama@unibo.it"
   ]
  },
  {
   "cell_type": "markdown",
   "metadata": {},
   "source": [
    "## Exercise 1: Dot Product between Vectors"
   ]
  },
  {
   "cell_type": "markdown",
   "metadata": {},
   "source": [
    "#### Es 1: Write a function which takes two 1-D vectors as input and returns the dot product between them. Implement this function twice, the first time using loops and the second time using _Numpy_'s methods. Then, compute the dot product $a \\cdot b$ with $a=[92, 12, 29]$ and $b=[14, 9, 91]$ (_Expected result : 4035_).\n",
    "\n",
    "#### _Reminder_: the dot product of two vectors $a = [a_1, a_2, …, a_n]$ and $b = [b_1, b_2, …, b_n]$ is defined as:  $a\\cdot{b}=\\sum_{i=1}^n{a_ib_i}$. Morever, if vectors are identified as two matrices the dot product can be seen as a matrix multiplication : $a\\cdot{b}=a^Tb$ where $a^T$ is the transpose of $a$"
   ]
  },
  {
   "cell_type": "code",
   "execution_count": 1,
   "metadata": {},
   "outputs": [
    {
     "name": "stdout",
     "output_type": "stream",
     "text": [
      "Dot product with loops:  4035\n",
      "Dot product with NumPy:  4035\n"
     ]
    }
   ],
   "source": [
    "### Write here your solution\n",
    "### Import libraries \n",
    "import numpy as np\n",
    "\n",
    "### Define here your functions\n",
    "def dot_with_loops(a,b):\n",
    "    result = -1\n",
    "    if len(a) == len(b):\n",
    "        result = 0\n",
    "        for i in range(len(a)):\n",
    "            result += a[i]*b[i]\n",
    "    return result\n",
    "\n",
    "###Initialize numpy arrays a and b\n",
    "va = np.array([92,12,29])\n",
    "vb = np.array([14,9,91])\n",
    "\n",
    "### Call your functions to calculate a.dot(b)\n",
    "print(\"Dot product with loops: \", dot_with_loops(va,vb))\n",
    "print(\"Dot product with NumPy: \",va.dot(vb))\n"
   ]
  },
  {
   "cell_type": "markdown",
   "metadata": {},
   "source": [
    "## Exercise 2: Norms of a Vector"
   ]
  },
  {
   "cell_type": "markdown",
   "metadata": {},
   "source": [
    "#### Es 2: Write three functions to calculate the norm $L_1, L_2$ and $L_{\\infty}$ of a vector. Test the functions on the vector $a = [22, 8 ,14]$. (_Expected results: $L_1$: 44 $L_2$: 27.28 $L_{\\infty}$: 22_)\n",
    "\n",
    "#### _Reminder_: The norms of a vector $a = [a_1, a_2, …, a_n]$ are defined in the following way: \n",
    "* $L_1:  ||a||_1 = \\sum_{i=1}^n{|a_i|} = |a_1| + |a_2| + ... + |a_n|$ \n",
    "* $L_2:  ||a||_2 = \\sqrt{\\sum_{i=1}^n{a_i^2}} = \\sqrt{a_1^2 + a_2^2 + ... + a_n^2}$\n",
    "* $L_{\\infty}: ||a||_{\\infty} = max_i(|x_i|)$ (i.e. The maximum absolute value of the componenents of the vector)"
   ]
  },
  {
   "cell_type": "code",
   "execution_count": 4,
   "metadata": {},
   "outputs": [
    {
     "name": "stdout",
     "output_type": "stream",
     "text": [
      "L1 44\n",
      "L2 27.28\n",
      "LINF 22\n"
     ]
    }
   ],
   "source": [
    "### Write here your solution\n",
    "### Import libraries \n",
    "import numpy as np\n",
    "import math\n",
    "\n",
    "\n",
    "### Define here your functions\n",
    "def normL1(v):\n",
    "    result = 0\n",
    "    for i in range(len(v)):\n",
    "        result += abs(v[i])\n",
    "    return result\n",
    "\n",
    "def normL2(v):\n",
    "    result = 0\n",
    "    for i in range(len(v)):\n",
    "        result += pow(v[i],2)\n",
    "    return math.sqrt(result)\n",
    "\n",
    "def normINF(v):\n",
    "    for el in v:\n",
    "        el = abs(el)\n",
    "    return max(v)\n",
    "\n",
    "###Initialize numpy array a\n",
    "a = np.array([22,8,14])\n",
    "\n",
    "### Call your functions to calculate L1 L2 and Linf norms\n",
    "print(\"L1\",normL1(a))\n",
    "print(\"L2 {:.2f}\".format(normL2(a)))\n",
    "print(\"LINF\",normINF(a))\n",
    "\n",
    "\n"
   ]
  },
  {
   "cell_type": "markdown",
   "metadata": {},
   "source": [
    "## Exercise 3: Mean, Variance and standard deviation of a Vector"
   ]
  },
  {
   "cell_type": "markdown",
   "metadata": {},
   "source": [
    "#### Es 3: Write three functions to calculate the mean, variance and standard deviation of a vector using python loops. Then, implement it using _Numpy_'s method. Test the functions on the vector $a = [22, 8 ,14]$. (*Expected Results: Mean $\\sim$ 14.67, Variance $\\sim$ 32.89 and Standard Deviation $\\sim$ 5.73*)\n",
    "\n",
    "#### _Reminder_:\n",
    "#### * Mean is defined as:  $\\bar{x} = \\frac{1}{n} \\sum_{i=1}^n{x_i} $ \n",
    "#### * Variance is defined as: $\\sigma^2 = \\frac{\\sum_{i=1}^n{(x_i - \\bar{x})^2}}{n}$ \n",
    "#### * Standard deviation is defined as: $\\sqrt{\\sigma^2}$"
   ]
  },
  {
   "cell_type": "code",
   "execution_count": 5,
   "metadata": {},
   "outputs": [
    {
     "name": "stdout",
     "output_type": "stream",
     "text": [
      "Mean loop 14.67\n",
      "Mean Numpy 14.67\n",
      "Variance loop 32.89\n",
      "Variance numpy 32.89\n",
      "Standard deviation loop 5.73\n",
      "Standard deviation numpy 5.73\n"
     ]
    }
   ],
   "source": [
    "### Write here your solution\n",
    "### Import libraries\n",
    "import math\n",
    "import numpy as np\n",
    "\n",
    "### Define here your functions\n",
    "def mean_loop(v):\n",
    "    sum = 0\n",
    "    for el in v:\n",
    "        sum += el\n",
    "    return sum/len(v)\n",
    "\n",
    "def variance_loop(v):\n",
    "    sum = 0\n",
    "    for el in v:\n",
    "        sum += (el - mean_loop(v))**2\n",
    "    return sum/len(v)\n",
    "\n",
    "def standard_deviation(v):\n",
    "    return math.sqrt(variance_loop(v))\n",
    "\n",
    "###Initialize numpy array a\n",
    "a=np.array([22,8,14])\n",
    "\n",
    "### Call your functions to calculate mean, variance and standard deviation\n",
    "print(\"Mean loop {:.2f}\".format(mean_loop(a)))\n",
    "print(\"Mean Numpy {:.2f}\".format(np.mean(a)))\n",
    "\n",
    "print(\"Variance loop {:.2f}\".format(variance_loop(a)))\n",
    "print(\"Variance numpy {:.2f}\".format(np.var(a)))\n",
    "\n",
    "print(\"Standard deviation loop {:.2f}\".format(standard_deviation(a)))\n",
    "print(\"Standard deviation numpy {:.2f}\".format(np.std(a)))\n"
   ]
  },
  {
   "cell_type": "markdown",
   "metadata": {},
   "source": [
    "## Exercise 4: Matrix Multiplication (not Element-Wise Multiplication !)"
   ]
  },
  {
   "cell_type": "markdown",
   "metadata": {},
   "source": [
    "#### Es 4: Write a function which takes as input two matrices $A$ and $B$ and computes the matrix multiplication $AxB$. Then, implement this function using _Numpy_'s method. Test it on matrix [[10],[11],[12]] and matrix  [[1,2,3],[4,5,6]]. (*Expected Results: C= [[ 68][167]]*)\n",
    "\n",
    "#### _Reminder_: If $A$ is an $n × m$ matrix and $B$ is an $m × p$ matrix, the matrix product C = AxB is defined to be the n × p matrix C such that an element $c$ of $C$ is:\n",
    "$c_{ij} = a_{i1}b_{1j} + ... + a_{im}b{mj} = \\sum_{k=1}^m{a_{ik}{b_{kj}}}$"
   ]
  },
  {
   "cell_type": "code",
   "execution_count": 8,
   "metadata": {
    "scrolled": true
   },
   "outputs": [
    {
     "name": "stdout",
     "output_type": "stream",
     "text": [
      "Dot with loop [[ 68]\n",
      " [167]]\n",
      "Dot with NumPy [[ 68]\n",
      " [167]]\n"
     ]
    }
   ],
   "source": [
    "### Write here your solution\n",
    "### Import libraries\n",
    "import numpy as np\n",
    "import math\n",
    "\n",
    "### Define here your functions\n",
    "def matrix_mul(v1,v2):\n",
    "    c1 = v1.shape[1]\n",
    "    r1 = v1.shape[0]\n",
    "    c2 = v2.shape[1]\n",
    "    r2 = v2.shape[0]\n",
    "    result = np.zeros((r1,c2),dtype=int)\n",
    "    if(c1==r2):\n",
    "        for i in range(r1): # riga 0\n",
    "            for j in range(c2): # colonna\n",
    "               for k in range(r2):\n",
    "                    result[i,j]+=v1[i,k]*v2[k,j]\n",
    "    return result\n",
    "\n",
    "    \n",
    "###Initialize matrices A and B\n",
    "b = np.array([[10],[11],[12]])\n",
    "a = np.array([[1,2,3],[4,5,6]])\n",
    "\n",
    "### Call your functions to execute matrix multiplication AxB\n",
    "print(\"Dot with loop\",matrix_mul(a,b))\n",
    "print(\"Dot with NumPy\",np.dot(a,b))\n",
    "\n"
   ]
  }
 ],
 "metadata": {
  "kernelspec": {
   "display_name": "Python 3 (ipykernel)",
   "language": "python",
   "name": "python3"
  },
  "language_info": {
   "codemirror_mode": {
    "name": "ipython",
    "version": 3
   },
   "file_extension": ".py",
   "mimetype": "text/x-python",
   "name": "python",
   "nbconvert_exporter": "python",
   "pygments_lexer": "ipython3",
   "version": "3.10.7"
  }
 },
 "nbformat": 4,
 "nbformat_minor": 2
}
